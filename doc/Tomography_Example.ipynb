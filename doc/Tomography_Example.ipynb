{
 "cells": [
  {
   "cell_type": "markdown",
   "metadata": {},
   "source": [
    "\n",
    "# Quantum Tomography with QGL, Auspex and QuantumTomography.jl"
   ]
  },
  {
   "cell_type": "markdown",
   "metadata": {},
   "source": [
    "The goal of tomography in quantum information processing is to asses how well states are being created and quantum processes implemented in a given system.  In this notebook we'll outline the process of creating and modifying sequences with `QGL` to carry out state and process tomography.  `Auspex` will orchestrate the data taking process and `QuantumTomography.jl` will be used to reconstruct the state or process from the data.  At the moment this reconstruction process happens in a Julia programming environment so this notebook will focus almost entirely on creating the experiments."
   ]
  },
  {
   "cell_type": "markdown",
   "metadata": {},
   "source": [
    "We'll start in the usual way by importing and setting things up in `QGL`."
   ]
  },
  {
   "cell_type": "code",
   "execution_count": 1,
   "metadata": {},
   "outputs": [],
   "source": [
    "from QGL import *"
   ]
  },
  {
   "cell_type": "code",
   "execution_count": 2,
   "metadata": {},
   "outputs": [],
   "source": [
    "cl = ChannelLibrary()\n",
    "q1 = QubitFactory(\"q1\")\n",
    "q2 = QubitFactory(\"q2\")"
   ]
  },
  {
   "cell_type": "markdown",
   "metadata": {},
   "source": [
    "We should now have a qubit object in the python namespace that reflects the parameters in our YAML files"
   ]
  },
  {
   "cell_type": "code",
   "execution_count": 3,
   "metadata": {},
   "outputs": [
    {
     "data": {
      "text/plain": [
       "Qubit('q1')"
      ]
     },
     "execution_count": 3,
     "metadata": {},
     "output_type": "execute_result"
    }
   ],
   "source": [
    "q1"
   ]
  },
  {
   "cell_type": "code",
   "execution_count": 4,
   "metadata": {},
   "outputs": [
    {
     "data": {
      "text/plain": [
       "{'cutoff': 2,\n",
       " 'drag_scaling': 0,\n",
       " 'length': 2e-08,\n",
       " 'pi2Amp': 0.5,\n",
       " 'piAmp': 1.0,\n",
       " 'shape_fun': <function QGL.PulseShapes.gaussian>,\n",
       " 'sigma': 5e-09}"
      ]
     },
     "execution_count": 4,
     "metadata": {},
     "output_type": "execute_result"
    }
   ],
   "source": [
    "q1.pulse_params"
   ]
  },
  {
   "cell_type": "markdown",
   "metadata": {},
   "source": [
    "## Sequence creation"
   ]
  },
  {
   "cell_type": "markdown",
   "metadata": {},
   "source": [
    "`QGL` provides some basic routines for standard state and process tomography.  We'll take a closer look at the sequence creation process."
   ]
  },
  {
   "cell_type": "markdown",
   "metadata": {},
   "source": [
    "At a high level, there are two helper functions you're most likely to use: `state_tomo` and `process_tomo`:"
   ]
  },
  {
   "cell_type": "markdown",
   "metadata": {},
   "source": [
    "### state tomography"
   ]
  },
  {
   "cell_type": "code",
   "execution_count": 5,
   "metadata": {},
   "outputs": [],
   "source": [
    "?state_tomo"
   ]
  },
  {
   "cell_type": "raw",
   "metadata": {},
   "source": [
    "Signature: state_tomo(seq, qubits, numPulses=4, measChans=None)\n",
    "Docstring:\n",
    "Apply state tomography readout pulses and measurement.\n",
    "\n",
    "Parameters\n",
    "-----------\n",
    "seq : a single entry list sequence to perform tomography on\n",
    "qubits : which qubits to act on\n",
    "numPulses : number of readout pulses\n",
    "measChans : tuple of measurement channels to readout (defaults to individual qubit channels)\n",
    "File:      ~/Github/QGL/QGL/Tomography.py\n",
    "Type:      function"
   ]
  },
  {
   "cell_type": "markdown",
   "metadata": {},
   "source": [
    "Let's see what we can do with as far as basic state tomography goes:"
   ]
  },
  {
   "cell_type": "code",
   "execution_count": 6,
   "metadata": {},
   "outputs": [],
   "source": [
    "seqs = state_tomo([Id(q1)], (q1,), numPulses=4)"
   ]
  },
  {
   "cell_type": "code",
   "execution_count": 7,
   "metadata": {},
   "outputs": [
    {
     "data": {
      "text/plain": [
       "[[Id(q1), Id(q1), MEAS(M-q1, shape_fun=<function autodyne at 0x112a47378>)],\n",
       " [Id(q1), X90(q1), MEAS(M-q1, shape_fun=<function autodyne at 0x112a47378>)],\n",
       " [Id(q1), Y90(q1), MEAS(M-q1, shape_fun=<function autodyne at 0x112a47378>)],\n",
       " [Id(q1), X(q1), MEAS(M-q1, shape_fun=<function autodyne at 0x112a47378>)]]"
      ]
     },
     "execution_count": 7,
     "metadata": {},
     "output_type": "execute_result"
    }
   ],
   "source": [
    "seqs"
   ]
  },
  {
   "cell_type": "markdown",
   "metadata": {},
   "source": [
    "We can see above, the helper function created a tomography experiment for the identity gate using projections onto the $Z$, $Y$, $X$ and $-Z$ axes.  We could asked for a different set of projections by changing the `numPulses` parameter:"
   ]
  },
  {
   "cell_type": "code",
   "execution_count": 8,
   "metadata": {},
   "outputs": [
    {
     "data": {
      "text/plain": [
       "[[Id(q1), Id(q1), MEAS(M-q1, shape_fun=<function autodyne at 0x112a47378>)],\n",
       " [Id(q1), X90(q1), MEAS(M-q1, shape_fun=<function autodyne at 0x112a47378>)],\n",
       " [Id(q1), X90m(q1), MEAS(M-q1, shape_fun=<function autodyne at 0x112a47378>)],\n",
       " [Id(q1), Y90(q1), MEAS(M-q1, shape_fun=<function autodyne at 0x112a47378>)],\n",
       " [Id(q1), Y90m(q1), MEAS(M-q1, shape_fun=<function autodyne at 0x112a47378>)],\n",
       " [Id(q1), X(q1), MEAS(M-q1, shape_fun=<function autodyne at 0x112a47378>)]]"
      ]
     },
     "execution_count": 8,
     "metadata": {},
     "output_type": "execute_result"
    }
   ],
   "source": [
    "seqs = state_tomo([Id(q1)], (q1,), numPulses=6);seqs"
   ]
  },
  {
   "cell_type": "markdown",
   "metadata": {},
   "source": [
    "This set of experiments gives the full set of projections onto the $\\pm \\{X, Y, Z\\}$ axes.  Of course, the identity gate is a simple thing to do but you can add any thing you'd like to the list of gates to run before the tomography blocks."
   ]
  },
  {
   "cell_type": "code",
   "execution_count": 9,
   "metadata": {},
   "outputs": [
    {
     "data": {
      "text/plain": [
       "[[Id(q1),\n",
       "  X(q1),\n",
       "  Id(q1),\n",
       "  MEAS(M-q1, shape_fun=<function autodyne at 0x112a47378>)],\n",
       " [Id(q1),\n",
       "  X(q1),\n",
       "  X90(q1),\n",
       "  MEAS(M-q1, shape_fun=<function autodyne at 0x112a47378>)],\n",
       " [Id(q1),\n",
       "  X(q1),\n",
       "  Y90(q1),\n",
       "  MEAS(M-q1, shape_fun=<function autodyne at 0x112a47378>)],\n",
       " [Id(q1),\n",
       "  X(q1),\n",
       "  X(q1),\n",
       "  MEAS(M-q1, shape_fun=<function autodyne at 0x112a47378>)]]"
      ]
     },
     "execution_count": 9,
     "metadata": {},
     "output_type": "execute_result"
    }
   ],
   "source": [
    "seqs = state_tomo([Id(q1), X(q1)], (q1,), numPulses=4);seqs"
   ]
  },
  {
   "cell_type": "markdown",
   "metadata": {},
   "source": [
    "The concepts extend to multi-qubit tomograpy as well.  Here we just pass two qubits to the function instead of one and we reconstruct the 16 different projections necessary for reconstruction."
   ]
  },
  {
   "cell_type": "code",
   "execution_count": 10,
   "metadata": {},
   "outputs": [
    {
     "data": {
      "text/plain": [
       "16"
      ]
     },
     "execution_count": 10,
     "metadata": {},
     "output_type": "execute_result"
    }
   ],
   "source": [
    "seqs = state_tomo([Id(q1)], (q1,q2), numPulses=4);len(seqs)"
   ]
  },
  {
   "cell_type": "code",
   "execution_count": 11,
   "metadata": {},
   "outputs": [
    {
     "data": {
      "text/plain": [
       "[[Id(q1),\n",
       "  Id(q1)⊗ Id(q2),\n",
       "  MEAS(M-q1, shape_fun=<function autodyne at 0x112a47378>)⊗ MEAS(M-q2, shape_fun=<function autodyne at 0x112a47378>)],\n",
       " [Id(q1),\n",
       "  Id(q1)⊗ X90(q2),\n",
       "  MEAS(M-q1, shape_fun=<function autodyne at 0x112a47378>)⊗ MEAS(M-q2, shape_fun=<function autodyne at 0x112a47378>)],\n",
       " [Id(q1),\n",
       "  Id(q1)⊗ Y90(q2),\n",
       "  MEAS(M-q1, shape_fun=<function autodyne at 0x112a47378>)⊗ MEAS(M-q2, shape_fun=<function autodyne at 0x112a47378>)],\n",
       " [Id(q1),\n",
       "  Id(q1)⊗ X(q2),\n",
       "  MEAS(M-q1, shape_fun=<function autodyne at 0x112a47378>)⊗ MEAS(M-q2, shape_fun=<function autodyne at 0x112a47378>)],\n",
       " [Id(q1),\n",
       "  X90(q1)⊗ Id(q2),\n",
       "  MEAS(M-q1, shape_fun=<function autodyne at 0x112a47378>)⊗ MEAS(M-q2, shape_fun=<function autodyne at 0x112a47378>)]]"
      ]
     },
     "execution_count": 11,
     "metadata": {},
     "output_type": "execute_result"
    }
   ],
   "source": [
    "seqs[0:5]"
   ]
  },
  {
   "cell_type": "markdown",
   "metadata": {},
   "source": [
    "Here measurement is also done at the same time on both qubits.  "
   ]
  },
  {
   "cell_type": "markdown",
   "metadata": {},
   "source": [
    "### process tomography"
   ]
  },
  {
   "cell_type": "markdown",
   "metadata": {},
   "source": [
    "Creating experiments for process tomography is accomplished in much the same way as state tomography."
   ]
  },
  {
   "cell_type": "code",
   "execution_count": 12,
   "metadata": {},
   "outputs": [],
   "source": [
    "?process_tomo"
   ]
  },
  {
   "cell_type": "raw",
   "metadata": {},
   "source": [
    "Signature: process_tomo(seq, qubits, numPulses=4, measChans=None)\n",
    "Docstring:\n",
    "Apply process tomography state prep. and readout pulses and measurement.\n",
    "\n",
    "Parameters\n",
    "-----------\n",
    "seq : a single entry list sequence to perform tomography on\n",
    "qubits : which qubits to act on\n",
    "numPulses : number of prep/readout pulses\n",
    "measChans : tuple of measurement channels to readout (defaults to individual qubit channels)\n",
    "File:      ~/Github/QGL/QGL/Tomography.py\n",
    "Type:      function"
   ]
  },
  {
   "cell_type": "code",
   "execution_count": 13,
   "metadata": {},
   "outputs": [],
   "source": [
    "# These sequences do process tomography on the Y90m gate on q1.\n",
    "# In this case, we also ask for measurement records on q2 even though in theory nothing is happening.\n",
    "seqs = process_tomo([Y90m(q1)], (q1,), measChans=(q1,q2))"
   ]
  },
  {
   "cell_type": "code",
   "execution_count": 14,
   "metadata": {},
   "outputs": [
    {
     "data": {
      "text/plain": [
       "[[Id(q1),\n",
       "  Y90m(q1),\n",
       "  Id(q1),\n",
       "  MEAS(M-q1, shape_fun=<function autodyne at 0x112a47378>)⊗ MEAS(M-q2, shape_fun=<function autodyne at 0x112a47378>)],\n",
       " [Id(q1),\n",
       "  Y90m(q1),\n",
       "  X90(q1),\n",
       "  MEAS(M-q1, shape_fun=<function autodyne at 0x112a47378>)⊗ MEAS(M-q2, shape_fun=<function autodyne at 0x112a47378>)],\n",
       " [Id(q1),\n",
       "  Y90m(q1),\n",
       "  Y90(q1),\n",
       "  MEAS(M-q1, shape_fun=<function autodyne at 0x112a47378>)⊗ MEAS(M-q2, shape_fun=<function autodyne at 0x112a47378>)],\n",
       " [Id(q1),\n",
       "  Y90m(q1),\n",
       "  X(q1),\n",
       "  MEAS(M-q1, shape_fun=<function autodyne at 0x112a47378>)⊗ MEAS(M-q2, shape_fun=<function autodyne at 0x112a47378>)],\n",
       " [X90(q1),\n",
       "  Y90m(q1),\n",
       "  Id(q1),\n",
       "  MEAS(M-q1, shape_fun=<function autodyne at 0x112a47378>)⊗ MEAS(M-q2, shape_fun=<function autodyne at 0x112a47378>)],\n",
       " [X90(q1),\n",
       "  Y90m(q1),\n",
       "  X90(q1),\n",
       "  MEAS(M-q1, shape_fun=<function autodyne at 0x112a47378>)⊗ MEAS(M-q2, shape_fun=<function autodyne at 0x112a47378>)],\n",
       " [X90(q1),\n",
       "  Y90m(q1),\n",
       "  Y90(q1),\n",
       "  MEAS(M-q1, shape_fun=<function autodyne at 0x112a47378>)⊗ MEAS(M-q2, shape_fun=<function autodyne at 0x112a47378>)],\n",
       " [X90(q1),\n",
       "  Y90m(q1),\n",
       "  X(q1),\n",
       "  MEAS(M-q1, shape_fun=<function autodyne at 0x112a47378>)⊗ MEAS(M-q2, shape_fun=<function autodyne at 0x112a47378>)],\n",
       " [Y90(q1),\n",
       "  Y90m(q1),\n",
       "  Id(q1),\n",
       "  MEAS(M-q1, shape_fun=<function autodyne at 0x112a47378>)⊗ MEAS(M-q2, shape_fun=<function autodyne at 0x112a47378>)],\n",
       " [Y90(q1),\n",
       "  Y90m(q1),\n",
       "  X90(q1),\n",
       "  MEAS(M-q1, shape_fun=<function autodyne at 0x112a47378>)⊗ MEAS(M-q2, shape_fun=<function autodyne at 0x112a47378>)],\n",
       " [Y90(q1),\n",
       "  Y90m(q1),\n",
       "  Y90(q1),\n",
       "  MEAS(M-q1, shape_fun=<function autodyne at 0x112a47378>)⊗ MEAS(M-q2, shape_fun=<function autodyne at 0x112a47378>)],\n",
       " [Y90(q1),\n",
       "  Y90m(q1),\n",
       "  X(q1),\n",
       "  MEAS(M-q1, shape_fun=<function autodyne at 0x112a47378>)⊗ MEAS(M-q2, shape_fun=<function autodyne at 0x112a47378>)],\n",
       " [X(q1),\n",
       "  Y90m(q1),\n",
       "  Id(q1),\n",
       "  MEAS(M-q1, shape_fun=<function autodyne at 0x112a47378>)⊗ MEAS(M-q2, shape_fun=<function autodyne at 0x112a47378>)],\n",
       " [X(q1),\n",
       "  Y90m(q1),\n",
       "  X90(q1),\n",
       "  MEAS(M-q1, shape_fun=<function autodyne at 0x112a47378>)⊗ MEAS(M-q2, shape_fun=<function autodyne at 0x112a47378>)],\n",
       " [X(q1),\n",
       "  Y90m(q1),\n",
       "  Y90(q1),\n",
       "  MEAS(M-q1, shape_fun=<function autodyne at 0x112a47378>)⊗ MEAS(M-q2, shape_fun=<function autodyne at 0x112a47378>)],\n",
       " [X(q1),\n",
       "  Y90m(q1),\n",
       "  X(q1),\n",
       "  MEAS(M-q1, shape_fun=<function autodyne at 0x112a47378>)⊗ MEAS(M-q2, shape_fun=<function autodyne at 0x112a47378>)]]"
      ]
     },
     "execution_count": 14,
     "metadata": {},
     "output_type": "execute_result"
    }
   ],
   "source": [
    "seqs"
   ]
  },
  {
   "cell_type": "code",
   "execution_count": 15,
   "metadata": {},
   "outputs": [],
   "source": [
    "seqs = process_tomo([Y90m(q1)*X(q2)], (q1,q2))"
   ]
  },
  {
   "cell_type": "code",
   "execution_count": 16,
   "metadata": {},
   "outputs": [
    {
     "data": {
      "text/plain": [
       "256"
      ]
     },
     "execution_count": 16,
     "metadata": {},
     "output_type": "execute_result"
    }
   ],
   "source": [
    "len(seqs)"
   ]
  },
  {
   "cell_type": "code",
   "execution_count": 17,
   "metadata": {},
   "outputs": [
    {
     "data": {
      "text/plain": [
       "[Id(q1)⊗ Id(q2),\n",
       " Y90m(q1)⊗ X(q2),\n",
       " X90(q1)⊗ Y90(q2),\n",
       " MEAS(M-q1, shape_fun=<function autodyne at 0x112a47378>)⊗ MEAS(M-q2, shape_fun=<function autodyne at 0x112a47378>)]"
      ]
     },
     "execution_count": 17,
     "metadata": {},
     "output_type": "execute_result"
    }
   ],
   "source": [
    "seqs[6]"
   ]
  },
  {
   "cell_type": "markdown",
   "metadata": {},
   "source": [
    "Here we've created all the 16x16 experiments necessary for two-qubit process tomography."
   ]
  },
  {
   "cell_type": "markdown",
   "metadata": {},
   "source": [
    "### Sequence modification"
   ]
  },
  {
   "cell_type": "markdown",
   "metadata": {},
   "source": [
    "All the experiments above are just python lists and can be altered in just the same way.  Say you wanted to change the first pulse in every experiment the most näive way would be to loop through all the lists and prepend it:"
   ]
  },
  {
   "cell_type": "code",
   "execution_count": 18,
   "metadata": {},
   "outputs": [],
   "source": [
    "seqs = state_tomo([Y90m(q1)], (q1,))"
   ]
  },
  {
   "cell_type": "code",
   "execution_count": 19,
   "metadata": {},
   "outputs": [
    {
     "data": {
      "text/plain": [
       "[[Y90m(q1), Id(q1), MEAS(M-q1, shape_fun=<function autodyne at 0x112a47378>)],\n",
       " [Y90m(q1), X90(q1), MEAS(M-q1, shape_fun=<function autodyne at 0x112a47378>)],\n",
       " [Y90m(q1), Y90(q1), MEAS(M-q1, shape_fun=<function autodyne at 0x112a47378>)],\n",
       " [Y90m(q1), X(q1), MEAS(M-q1, shape_fun=<function autodyne at 0x112a47378>)]]"
      ]
     },
     "execution_count": 19,
     "metadata": {},
     "output_type": "execute_result"
    }
   ],
   "source": [
    "seqs"
   ]
  },
  {
   "cell_type": "code",
   "execution_count": 20,
   "metadata": {},
   "outputs": [],
   "source": [
    "mod_seqs = [[Z90(q2)] + i for i in seqs]"
   ]
  },
  {
   "cell_type": "code",
   "execution_count": 21,
   "metadata": {},
   "outputs": [
    {
     "data": {
      "text/plain": [
       "[[Z90(q2, frameChange=-1.5707963267948966),\n",
       "  Y90m(q1),\n",
       "  Id(q1),\n",
       "  MEAS(M-q1, shape_fun=<function autodyne at 0x112a47378>)],\n",
       " [Z90(q2, frameChange=-1.5707963267948966),\n",
       "  Y90m(q1),\n",
       "  X90(q1),\n",
       "  MEAS(M-q1, shape_fun=<function autodyne at 0x112a47378>)],\n",
       " [Z90(q2, frameChange=-1.5707963267948966),\n",
       "  Y90m(q1),\n",
       "  Y90(q1),\n",
       "  MEAS(M-q1, shape_fun=<function autodyne at 0x112a47378>)],\n",
       " [Z90(q2, frameChange=-1.5707963267948966),\n",
       "  Y90m(q1),\n",
       "  X(q1),\n",
       "  MEAS(M-q1, shape_fun=<function autodyne at 0x112a47378>)]]"
      ]
     },
     "execution_count": 21,
     "metadata": {},
     "output_type": "execute_result"
    }
   ],
   "source": [
    "mod_seqs"
   ]
  },
  {
   "cell_type": "markdown",
   "metadata": {},
   "source": [
    "This is a bit trivial since you could easily just add this to this list of pulses in state_tomography creation.  Fancier things can be done with the `itertools` and `operator` libraries.  I would suggest looking at some the tutorials and examples online using these. "
   ]
  },
  {
   "cell_type": "code",
   "execution_count": 22,
   "metadata": {},
   "outputs": [],
   "source": [
    "import itertools\n",
    "import operator"
   ]
  },
  {
   "cell_type": "markdown",
   "metadata": {},
   "source": [
    "Say you have the mod_seqs from above and want to drop all the `X(q1)` pulses from the sequences and wanted to append `x90m(q2)` to the front.  Not sure why you would want to do this, but let's just set that aside for now.  I could do this by:"
   ]
  },
  {
   "cell_type": "code",
   "execution_count": 23,
   "metadata": {},
   "outputs": [],
   "source": [
    "mod_mod_seq = []\n",
    "for seq in mod_seqs:\n",
    "    results = itertools.filterfalse(lambda x: x==X(q1), seq)\n",
    "    results = itertools.product([X90m(q2)], results)\n",
    "    mod_mod_seq.append([*results])"
   ]
  },
  {
   "cell_type": "code",
   "execution_count": 24,
   "metadata": {},
   "outputs": [
    {
     "data": {
      "text/plain": [
       "[[(X90m(q2), Z90(q2, frameChange=-1.5707963267948966)),\n",
       "  (X90m(q2), Y90m(q1)),\n",
       "  (X90m(q2), Id(q1)),\n",
       "  (X90m(q2), MEAS(M-q1, shape_fun=<function autodyne at 0x112a47378>))],\n",
       " [(X90m(q2), Z90(q2, frameChange=-1.5707963267948966)),\n",
       "  (X90m(q2), Y90m(q1)),\n",
       "  (X90m(q2), X90(q1)),\n",
       "  (X90m(q2), MEAS(M-q1, shape_fun=<function autodyne at 0x112a47378>))],\n",
       " [(X90m(q2), Z90(q2, frameChange=-1.5707963267948966)),\n",
       "  (X90m(q2), Y90m(q1)),\n",
       "  (X90m(q2), Y90(q1)),\n",
       "  (X90m(q2), MEAS(M-q1, shape_fun=<function autodyne at 0x112a47378>))],\n",
       " [(X90m(q2), Z90(q2, frameChange=-1.5707963267948966)),\n",
       "  (X90m(q2), Y90m(q1)),\n",
       "  (X90m(q2), MEAS(M-q1, shape_fun=<function autodyne at 0x112a47378>))]]"
      ]
     },
     "execution_count": 24,
     "metadata": {},
     "output_type": "execute_result"
    }
   ],
   "source": [
    "mod_mod_seq"
   ]
  },
  {
   "cell_type": "markdown",
   "metadata": {},
   "source": [
    "## Auspex"
   ]
  },
  {
   "cell_type": "markdown",
   "metadata": {},
   "source": [
    "Tomograpy can be run just like any other sequence of experiments (RB, Ramsey, etc...) with Auspex.   "
   ]
  },
  {
   "cell_type": "code",
   "execution_count": 25,
   "metadata": {},
   "outputs": [
    {
     "name": "stdout",
     "output_type": "stream",
     "text": [
      "auspex-WARNING: 2018-06-25 16:29:01,611 ----> Could not load channelizer library; falling back to python methods.\n"
     ]
    }
   ],
   "source": [
    "from auspex.exp_factory import QubitExpFactory as QEF"
   ]
  },
  {
   "cell_type": "code",
   "execution_count": 26,
   "metadata": {},
   "outputs": [
    {
     "name": "stdout",
     "output_type": "stream",
     "text": [
      "Compiled 4 sequences.\n"
     ]
    }
   ],
   "source": [
    "seqs = state_tomo([Y90m(q1)], (q1,))\n",
    "filename = compile_to_hardware(seqs, 'StateTomo/StateTomo')"
   ]
  },
  {
   "cell_type": "code",
   "execution_count": 27,
   "metadata": {},
   "outputs": [
    {
     "name": "stdout",
     "output_type": "stream",
     "text": [
      "auspex-WARNING: 2018-06-25 16:29:01,918 ----> Could not load aps2 library\n",
      "auspex-WARNING: 2018-06-25 16:29:01,920 ----> Could not load aps2 library\n",
      "auspex-WARNING: 2018-06-25 16:29:01,923 ----> Could not find the Holzworth driver.\n",
      "auspex-WARNING: 2018-06-25 16:29:01,925 ----> Could not find the Holzworth driver.\n"
     ]
    }
   ],
   "source": [
    "exp = QEF.create(filename, repeats=2048) # take 2048 shots of each projection\n",
    "# exp.run_sweeps()"
   ]
  },
  {
   "cell_type": "markdown",
   "metadata": {},
   "source": [
    "The above should take 2048 shots of each experiment and depending on how your filter pipeline is setup, you might only have four averaged values or 2048x4 single shot values to process."
   ]
  },
  {
   "cell_type": "markdown",
   "metadata": {},
   "source": [
    "## Reconstruction"
   ]
  },
  {
   "cell_type": "markdown",
   "metadata": {},
   "source": [
    "At the moment our tomography analysis is done in `QuantumTomography.jl`, a Julia package for this task.  This means we haven't implemented any analysis code in QGL or Auspex.  More information about QuantumTomography.jl can be found on the associated Github page."
   ]
  },
  {
   "cell_type": "code",
   "execution_count": null,
   "metadata": {},
   "outputs": [],
   "source": []
  }
 ],
 "metadata": {
  "kernelspec": {
   "display_name": "Python [conda env:Auspex]",
   "language": "python",
   "name": "conda-env-Auspex-py"
  },
  "language_info": {
   "codemirror_mode": {
    "name": "ipython",
    "version": 3
   },
   "file_extension": ".py",
   "mimetype": "text/x-python",
   "name": "python",
   "nbconvert_exporter": "python",
   "pygments_lexer": "ipython3",
   "version": "3.6.4"
  },
  "latex_envs": {
   "bibliofile": "biblio.bib",
   "cite_by": "apalike",
   "current_citInitial": 1,
   "eqLabelWithNumbers": true,
   "eqNumInitial": 0
  },
  "toc": {
   "navigate_menu": true,
   "number_sections": true,
   "sideBar": true,
   "threshold": 6,
   "toc_cell": false,
   "toc_section_display": "block",
   "toc_window_display": false
  }
 },
 "nbformat": 4,
 "nbformat_minor": 2
}
